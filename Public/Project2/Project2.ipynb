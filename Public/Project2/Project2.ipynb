{
 "cells": [
  {
   "cell_type": "markdown",
   "metadata": {},
   "source": [
    "# Machine Learning for Economics\n",
    "## Project 2\n",
    "##          \n",
    "#### Ramon Gmür 16-705-220\n",
    "#### Ben Murphy 16-714-925\n",
    "#### Florian Rüegsegger 14-714-737\n",
    "### \n",
    "#### 1 Data Preprocessing\n",
    "#### 2 Model training & evaluation"
   ]
  },
  {
   "cell_type": "code",
   "execution_count": 5,
   "metadata": {},
   "outputs": [],
   "source": [
    "import pandas as pd\n",
    "from sklearn.linear_model import Ridge, LinearRegression,Lasso\n",
    "from sklearn.decomposition import PCA\n",
    "from sklearn.preprocessing import PolynomialFeatures, OneHotEncoder\n",
    "import numpy as np\n",
    "import matplotlib.pyplot as plt\n",
    "import seaborn as sns\n",
    "import time\n",
    "\n",
    "%matplotlib inline"
   ]
  },
  {
   "cell_type": "markdown",
   "metadata": {},
   "source": [
    "\n",
    "##  1 Data Preprocessing\n"
   ]
  },
  {
   "cell_type": "markdown",
   "metadata": {},
   "source": [
    "#### 1.1 Read and Merge Data"
   ]
  },
  {
   "cell_type": "code",
   "execution_count": 124,
   "metadata": {
    "scrolled": true
   },
   "outputs": [
    {
     "name": "stdout",
     "output_type": "stream",
     "text": [
      "0\n"
     ]
    }
   ],
   "source": [
    "#HFI\n",
    "df2 = pd.read_excel('human-freedom-index-2019-data-tables-figures.xlsx',engine='openpyxl')\n",
    "df2.columns=df2.iloc[3]\n",
    "df2.drop([0,1,2,3],inplace=True)\n",
    "df2.reset_index(inplace=True,drop=True)\n",
    "#last three cols are Nan\n",
    "df2 = df2[df2.columns[:-3]]\n",
    "\n",
    "#nans are encoded with '-'\n",
    "df2.replace('-',np.nan,inplace=True)\n",
    "df2.rename(columns={'Countries':'Country'}, inplace=True)\n",
    "\n",
    "year_range = [2010,2018]\n",
    "countries = np.unique(df2['Country'])\n",
    "\n",
    "#Setup merge df \n",
    "df = pd.DataFrame(columns=['Year','Country','Region'])\n",
    "\n",
    "# Create a df with countries,years and region for the years 2010 - 2018\n",
    "for year in range(year_range[0],year_range[1]+1):\n",
    "    for country in countries:\n",
    "        reg = df2.loc[df2['Country']==country,'Region'].to_numpy()\n",
    "        \n",
    "        df=df.append({'Country':country,'Year':year,'Region':reg[0]}, ignore_index=True)\n",
    "\n",
    "df = pd.merge(df,df2,how='left',on=['Country','Year','Region'])\n",
    "print(np.sum(df.loc[df['Year']==2018,'Region'].isnull()))\n",
    "\n",
    "#GDP data\n",
    "df3 = pd.read_csv('GDP.csv')\n",
    "df3 = df3.melt(id_vars=['Country ','Country Code'],var_name='Year', value_name='GDP')\n",
    "df3['Year'] = df3['Year'].astype(np.int64)\n",
    "df3 = df3[df3['Year'].isin([x for x in range(2010,2019)])]\n",
    "df3.reset_index(drop=True, inplace=True)\n",
    "df3.rename(columns = {'Country ':'Country'}, inplace = True) \n",
    "\n",
    "countries2 = np.unique(df3['Country'])\n",
    "#Right join since we need GDP\n",
    "df = pd.merge(df3,df,how='inner',on=['Country','Year'])\n",
    "#Only years 2010 to 2018 (2018 only for GDP) are interesting\n",
    "df = df[df['Year'].isin([x for x in range(2010,2019)])]\n"
   ]
  },
  {
   "cell_type": "markdown",
   "metadata": {},
   "source": [
    "#### 1.2 Preprocessing"
   ]
  },
  {
   "cell_type": "code",
   "execution_count": 144,
   "metadata": {
    "scrolled": true
   },
   "outputs": [
    {
     "name": "stdout",
     "output_type": "stream",
     "text": [
      "0\n"
     ]
    },
    {
     "name": "stderr",
     "output_type": "stream",
     "text": [
      "C:\\Users\\Flo\\anaconda3\\lib\\site-packages\\pandas\\core\\generic.py:6245: SettingWithCopyWarning: \n",
      "A value is trying to be set on a copy of a slice from a DataFrame\n",
      "\n",
      "See the caveats in the documentation: https://pandas.pydata.org/pandas-docs/stable/user_guide/indexing.html#returning-a-view-versus-a-copy\n",
      "  self._update_inplace(new_data)\n"
     ]
    },
    {
     "name": "stdout",
     "output_type": "stream",
     "text": [
      "0\n",
      "(890, 97)\n",
      "(890,)\n"
     ]
    }
   ],
   "source": [
    "print(np.sum(df['Region'].isnull()))\n",
    "#Drop Rank and Quartiles\n",
    "df.drop(df[[\"HUMAN FREEDOM (Rank)\",\"HUMAN FREEDOM (Quartile)\",\"PERSONAL FREEDOM (Rank)\",\"ECONOMIC FREEDOM (Rank)\"]], inplace=True, axis=1)\n",
    "\n",
    "#Drop DATA columns\n",
    "for i in df.columns:\n",
    "    if 'DATA' in i:\n",
    "        df.drop(i,axis=1,inplace=True)\n",
    "        \n",
    "#Drop ISO Code\n",
    "df.drop('ISO Code',axis=1,inplace=True)\n",
    "df.drop('Country Code',axis=1,inplace=True)\n",
    "#One Hot encode Region\n",
    "ohe = OneHotEncoder(sparse=False)\n",
    "f = ohe.fit_transform(df['Region'].to_numpy().reshape(-1,1))\n",
    "categories = ohe.categories_[0]\n",
    "for i in range(categories.size):\n",
    "    df[categories[i]] = f[:,i]\n",
    "    \n",
    "\n",
    "\n",
    "#impute nan's with median's per region and year\n",
    "for year in df['Year'].unique():\n",
    "    for region in df[\"Region\"].unique():\n",
    "        median = df.loc[(df['Region']==region) & (df['Year']<=year)].median(axis=0)\n",
    "        df.loc[(df['Region']==region) & (df['Year']==year)].fillna(value=median,inplace=True)\n",
    "     \n",
    "\n",
    "df.replace(' ',np.nan,inplace=True)\n",
    "\n",
    "#Drop cols with more than 100 NaN\n",
    "badCols = []\n",
    "for column in df.columns:\n",
    "    if np.sum(df.loc[df['Year']<2018,column].isnull())>100:\n",
    "        #Safety to keep the GDP col\n",
    "        if column!='GDP':\n",
    "            badCols.append(column)\n",
    "df.drop(badCols,axis=1,inplace=True)\n",
    "\n",
    "print(np.sum(df['GDP'].isnull()))\n",
    "#Lag GDP by one year to be used as the dependent varb\n",
    "df['GDP_next'] = np.nan\n",
    "for c in np.unique(df['Country']):\n",
    "    ind = df.loc[df['Country']==c,'GDP'].index\n",
    "    for i in range(len(ind)-1):\n",
    "        df.at[ind[i],'GDP_next'] = df.at[ind[i+1],'GDP']\n",
    "    df.loc[df['Country']==c,['GDP','GDP_next']]\n",
    "\n",
    "\n",
    "\n",
    "#Drop rows with nans \n",
    "df.dropna(axis=0,inplace=True) \n",
    "\n",
    "#Country and Region are not needed anymore\n",
    "df.drop(['Country','Region'],axis=1,inplace=True)\n",
    "    \n",
    "\n",
    "df.reset_index(inplace=True,drop=True)\n",
    "\n",
    "\n",
    "#Define X and y\n",
    "X = df.loc[df['Year']!=2018, df.columns != 'GDP_next'].to_numpy(dtype=np.float64)\n",
    "y = np.log(df.loc[df['Year']!=2018,'GDP_next']).to_numpy(dtype=np.float64)\n",
    "print(X.shape)\n",
    "print(y.shape)"
   ]
  },
  {
   "cell_type": "code",
   "execution_count": 189,
   "metadata": {},
   "outputs": [
    {
     "data": {
      "text/plain": [
       "(890, 97)"
      ]
     },
     "execution_count": 189,
     "metadata": {},
     "output_type": "execute_result"
    }
   ],
   "source": [
    "X.shape"
   ]
  },
  {
   "cell_type": "code",
   "execution_count": 160,
   "metadata": {},
   "outputs": [
    {
     "name": "stdout",
     "output_type": "stream",
     "text": [
      "(779, 97)\n",
      "(111, 97)\n",
      "(779,)\n",
      "(111,)\n"
     ]
    }
   ],
   "source": [
    "Xtrain = df.loc[df['Year']<2017, df.columns != 'GDP_next'].to_numpy(dtype=np.float64)\n",
    "Xtest = df.loc[df['Year']==2017, df.columns != 'GDP_next'].to_numpy(dtype=np.float64)\n",
    "\n",
    "ytrain = np.log(df.loc[df['Year']<2017,'GDP_next']).to_numpy(dtype=np.float64)\n",
    "ytest = np.log(df.loc[df['Year']==2017,'GDP_next']).to_numpy(dtype=np.float64)\n",
    "\n",
    "print(Xtrain.shape)\n",
    "print(Xtest.shape)\n",
    "print(ytrain.shape)\n",
    "print(ytest.shape)"
   ]
  },
  {
   "cell_type": "markdown",
   "metadata": {},
   "source": [
    "## 2 Model training & evaluation"
   ]
  },
  {
   "cell_type": "code",
   "execution_count": 162,
   "metadata": {},
   "outputs": [],
   "source": [
    "from sklearn.model_selection import KFold\n",
    "def kfold_validation(X,y,model):\n",
    "    start = time.time()\n",
    "    kf = KFold(n_splits=5,shuffle=True) \n",
    "    mses = []\n",
    "    models = []\n",
    "    count = 0\n",
    "    for trainIndices,testIndices in kf.split(X):\n",
    "        #print(f\"iteration: {count}\")\n",
    "        Xtrain,Xval = X[trainIndices,:],X[testIndices,:]\n",
    "        ytrain,yval = y[trainIndices],y[testIndices]\n",
    "        model.fit(Xtrain,ytrain)\n",
    "        yhat = model.predict(Xval)\n",
    "        mse = np.sum(np.square(yval-yhat))/yval.size\n",
    "        mses.append(mse)\n",
    "        models.append(model)\n",
    "        count+=1\n",
    "    #print(f\"time used (seconds): {time.time()-start}\")\n",
    "    return mses, models\n"
   ]
  },
  {
   "cell_type": "code",
   "execution_count": 163,
   "metadata": {},
   "outputs": [],
   "source": [
    "from sklearn.linear_model import LinearRegression\n",
    "from sklearn.model_selection import train_test_split\n",
    "\n",
    "#Xtrain,Xtest, ytrain,ytest = train_test_split(X,y,shuffle=True,train_size=0.8)\n",
    "\n",
    "def standardise_data(X):\n",
    "    mean = np.mean(X)\n",
    "    std = np.std(X)\n",
    "    X_std = (X-mean)/std\n",
    "    return X_std, mean, std\n",
    "\n",
    "\n",
    "Xtrain_std, X_train_mean, X_train_std_div = standardise_data(Xtrain)\n",
    "\n",
    "Xtest_std = (Xtest-X_train_mean)/X_train_std_div\n"
   ]
  },
  {
   "cell_type": "markdown",
   "metadata": {},
   "source": [
    "### Linear Regression"
   ]
  },
  {
   "cell_type": "markdown",
   "metadata": {},
   "source": [
    "#### Quadratic features\n",
    "Here we expanded each feature with its quadratic counterpart"
   ]
  },
  {
   "cell_type": "code",
   "execution_count": 182,
   "metadata": {},
   "outputs": [
    {
     "name": "stdout",
     "output_type": "stream",
     "text": [
      "(111, 97)\n",
      "(111, 194)\n",
      "[0.03292789871957518, 0.05466788973460733, 0.03799046577346902, 0.036677686900769065, 0.05089410269397266]\n"
     ]
    },
    {
     "data": {
      "text/plain": [
       "0.06136123768688648"
      ]
     },
     "execution_count": 182,
     "metadata": {},
     "output_type": "execute_result"
    }
   ],
   "source": [
    "from sklearn.preprocessing import FunctionTransformer\n",
    "model = LinearRegression()\n",
    "Xtrain_std_poly = Xtrain_std\n",
    "Xtest_std_poly = Xtest_std\n",
    "\n",
    "def QuadraticFeatures(X):\n",
    "    # returns for each column x {x,x^2}\n",
    "    newX = np.empty(shape=(X.shape[0],X.shape[1]*2))\n",
    "    for i in range(X.shape[1]):\n",
    "        newX[:,i] = X[:,i]\n",
    "        newX[:,i+X.shape[1]] = np.square(X[:,i])\n",
    "    return newX\n",
    "\n",
    "\n",
    "transformer = FunctionTransformer(QuadraticFeatures, validate=True)\n",
    "print(Xtest.shape)\n",
    "Xtrain_std_poly = transformer.transform(Xtrain_std_poly)\n",
    "Xtest_std_poly = transformer.transform(Xtest_std_poly)\n",
    "print(Xtest_std_poly.shape)\n",
    "\n",
    "Xtrain_std_poly, X_train_mean, X_train_std_div = standardise_data(Xtrain_std_poly)\n",
    "\n",
    "Xtest_std_poly = (Xtest_std_poly-X_train_mean)/X_train_std_div\n",
    "\n",
    "model.fit(Xtrain_std_poly,ytrain)\n",
    "mses,models = kfold_validation(Xtrain_std_poly,ytrain,model)\n",
    "yhat=models[np.argmin(mses)].predict(Xtest_std_poly)\n",
    "print(mses)\n",
    "np.mean(np.square(yhat-ytest))"
   ]
  },
  {
   "cell_type": "markdown",
   "metadata": {},
   "source": [
    "#### Normal data without expansion"
   ]
  },
  {
   "cell_type": "code",
   "execution_count": 183,
   "metadata": {
    "scrolled": true
   },
   "outputs": [
    {
     "name": "stdout",
     "output_type": "stream",
     "text": [
      "[0.09728625993240933, 0.08482089026101501, 0.10105223288393882, 0.09406559338737207, 0.0865244431014673]\n"
     ]
    },
    {
     "data": {
      "text/plain": [
       "0.1360040585630625"
      ]
     },
     "execution_count": 183,
     "metadata": {},
     "output_type": "execute_result"
    }
   ],
   "source": [
    "model.fit(Xtrain,ytrain)\n",
    "mses,models = kfold_validation(Xtrain,ytrain,model)\n",
    "yhat=models[np.argmin(mses)].predict(Xtest)\n",
    "print(mses)\n",
    "np.mean(np.square(yhat-ytest))"
   ]
  },
  {
   "cell_type": "markdown",
   "metadata": {},
   "source": [
    "#### Learning curve for Quadratic features"
   ]
  },
  {
   "cell_type": "code",
   "execution_count": 190,
   "metadata": {
    "scrolled": true
   },
   "outputs": [
    {
     "data": {
      "image/png": "[encoded data removed]",
      "text/plain": [
       "<Figure size 432x288 with 1 Axes>"
      ]
     },
     "metadata": {
      "needs_background": "light"
     },
     "output_type": "display_data"
    }
   ],
   "source": [
    "from sklearn.model_selection import learning_curve\n",
    "import matplotlib.pyplot as plt\n",
    "\n",
    "# Create CV training and test scores for various training set sizes\n",
    "train_sizes, train_scores, test_scores = learning_curve(LinearRegression(), \n",
    "                                                        Xtrain_std_poly, \n",
    "                                                        ytrain,\n",
    "                                                        # Number of folds in cross-validation\n",
    "                                                        cv = 10,\n",
    "                                                        # Evaluation metric\n",
    "                                                        scoring='neg_mean_squared_error',\n",
    "                                                        shuffle=True,\n",
    "                                                        # Use all computer cores\n",
    "                                                        n_jobs=-1, \n",
    "                                                        # 50 different sizes of the training set\n",
    "                                                        train_sizes=np.linspace(0.01, 1.0, 50))\n",
    "\n",
    "# change sign of mse's\n",
    "train_scores = np.multiply(-1,train_scores)\n",
    "test_scores = np.multiply(-1,test_scores)\n",
    "\n",
    "# Create means and standard deviations of training set scores\n",
    "train_mean = np.mean(train_scores, axis=1)\n",
    "train_std = np.std(train_scores, axis=1)\n",
    "\n",
    "# Create means and standard deviations of test set scores\n",
    "test_mean = np.mean(test_scores, axis=1)\n",
    "test_std = np.std(test_scores, axis=1)\n",
    "\n",
    "# Draw lines\n",
    "plt.plot(train_sizes, train_mean, '--', color=\"r\",  label=\"Training score\")\n",
    "plt.plot(train_sizes, test_mean, color=\"g\", label=\"Cross-validation score\")\n",
    "\n",
    "# Draw bands\n",
    "plt.fill_between(train_sizes, train_mean - train_std, train_mean + train_std, color=\"r\", alpha=0.1)\n",
    "plt.fill_between(train_sizes, test_mean - test_std, test_mean + test_std, color=\"g\",alpha = 0.1)\n",
    "\n",
    "# grid\n",
    "plt.grid(b=True, which='major', color='#666666', linestyle='-', alpha= 0.1)\n",
    "\n",
    "# Create plot\n",
    "plt.title(\"Learning Curve\")\n",
    "plt.xlabel(\"Training Set Size\"), plt.ylabel(\"Mean Squared Error\"), plt.legend(loc=\"best\")\n",
    "plt.tight_layout()\n",
    "plt.show()"
   ]
  },
  {
   "cell_type": "markdown",
   "metadata": {},
   "source": [
    "### Random Forest"
   ]
  },
  {
   "cell_type": "code",
   "execution_count": 188,
   "metadata": {},
   "outputs": [
    {
     "data": {
      "image/png": "[encoded data removed]",
      "text/plain": [
       "<Figure size 432x288 with 1 Axes>"
      ]
     },
     "metadata": {
      "needs_background": "light"
     },
     "output_type": "display_data"
    }
   ],
   "source": [
    "import matplotlib.pyplot as plt\n",
    "import numpy as np\n",
    "\n",
    "\n",
    "from sklearn.model_selection import validation_curve\n",
    "\n",
    "\n",
    "\n",
    "param_range = [100,200,500,700]\n",
    "train_scores, test_scores = validation_curve(\n",
    "    RandomForestRegressor(), Xtrain_std, ytrain, param_name=\"n_estimators\", param_range=param_range,\n",
    "    scoring=\"neg_mean_squared_error\")\n",
    "train_scores_mean = np.mean(train_scores, axis=1)\n",
    "train_scores_std = np.std(train_scores, axis=1)\n",
    "test_scores_mean = np.mean(test_scores, axis=1)\n",
    "test_scores_std = np.std(test_scores, axis=1)\n",
    "\n",
    "plt.title(\"Validation Curve with RandomForest\")\n",
    "plt.xlabel(\"ntrees\")\n",
    "plt.ylabel(\"Score\")\n",
    "lw = 2\n",
    "plt.semilogx(param_range, train_scores_mean, label=\"Training score\",\n",
    "             color=\"darkorange\", lw=lw)\n",
    "plt.fill_between(param_range, train_scores_mean - train_scores_std,\n",
    "                 train_scores_mean + train_scores_std, alpha=0.2,\n",
    "                 color=\"darkorange\", lw=lw)\n",
    "plt.semilogx(param_range, test_scores_mean, label=\"Cross-validation score\",\n",
    "             color=\"navy\", lw=lw)\n",
    "plt.fill_between(param_range, test_scores_mean - test_scores_std,\n",
    "                 test_scores_mean + test_scores_std, alpha=0.2,\n",
    "                 color=\"navy\", lw=lw)\n",
    "plt.legend(loc=\"best\")\n",
    "plt.show()\n"
   ]
  },
  {
   "cell_type": "code",
   "execution_count": 152,
   "metadata": {},
   "outputs": [
    {
     "data": {
      "text/plain": [
       "0.00099568830723933"
      ]
     },
     "execution_count": 152,
     "metadata": {},
     "output_type": "execute_result"
    }
   ],
   "source": [
    "from sklearn.ensemble import RandomForestRegressor \n",
    "\n",
    "model = RandomForestRegressor()\n",
    "mses,models = kfold_validation(Xtrain,ytrain,model)\n",
    "yhat=models[np.argmin(mses)].predict(Xtest)\n",
    "np.mean(np.square(yhat-ytest))\n"
   ]
  },
  {
   "cell_type": "code",
   "execution_count": 153,
   "metadata": {},
   "outputs": [
    {
     "data": {
      "image/png": "[encoded data removed]",
      "text/plain": [
       "<Figure size 432x288 with 1 Axes>"
      ]
     },
     "metadata": {
      "needs_background": "light"
     },
     "output_type": "display_data"
    }
   ],
   "source": [
    "# Create CV training and test scores for various training set sizes\n",
    "train_sizes, train_scores, test_scores = learning_curve(RandomForestRegressor(), \n",
    "                                                        Xtrain_std, \n",
    "                                                        ytrain,\n",
    "                                                        # Number of folds in cross-validation\n",
    "                                                        cv = 10,\n",
    "                                                        # Evaluation metric\n",
    "                                                        scoring='neg_mean_squared_error',\n",
    "                                                        # Use all computer cores\n",
    "                                                        n_jobs=-1, \n",
    "                                                        # 50 different sizes of the training set\n",
    "                                                        train_sizes=np.linspace(0.01, 1.0, 50))\n",
    "\n",
    "# change sign of mse's\n",
    "train_scores = np.multiply(-1,train_scores)\n",
    "test_scores = np.multiply(-1,test_scores)\n",
    "\n",
    "# Create means and standard deviations of training set scores\n",
    "train_mean = np.mean(train_scores, axis=1)\n",
    "train_std = np.std(train_scores, axis=1)\n",
    "\n",
    "# Create means and standard deviations of test set scores\n",
    "test_mean = np.mean(test_scores, axis=1)\n",
    "test_std = np.std(test_scores, axis=1)\n",
    "\n",
    "# Draw lines\n",
    "plt.plot(train_sizes, train_mean, '--', color=\"r\",  label=\"Training score\")\n",
    "plt.plot(train_sizes, test_mean, color=\"g\", label=\"Cross-validation score\")\n",
    "\n",
    "# Draw bands\n",
    "plt.fill_between(train_sizes, train_mean - train_std, train_mean + train_std, color=\"r\", alpha=0.1)\n",
    "plt.fill_between(train_sizes, test_mean - test_std, test_mean + test_std, color=\"g\",alpha = 0.1)\n",
    "\n",
    "# grid\n",
    "plt.grid(b=True, which='major', color='#666666', linestyle='-', alpha= 0.1)\n",
    "\n",
    "# Create plot\n",
    "plt.title(\"Learning Curve\")\n",
    "plt.xlabel(\"Training Set Size\"), plt.ylabel(\"Mean Squared Error\"), plt.legend(loc=\"best\")\n",
    "plt.tight_layout()\n",
    "plt.show()"
   ]
  },
  {
   "cell_type": "code",
   "execution_count": 154,
   "metadata": {},
   "outputs": [
    {
     "data": {
      "text/plain": [
       "0.014560411318830142"
      ]
     },
     "execution_count": 154,
     "metadata": {},
     "output_type": "execute_result"
    }
   ],
   "source": [
    "from sklearn.svm import SVR\n",
    "\n",
    "model = SVR()\n",
    "mses,models = kfold_validation(Xtrain,ytrain,model)\n",
    "yhat=models[np.argmin(mses)].predict(Xtest)\n",
    "np.mean(np.square(yhat-ytest))"
   ]
  },
  {
   "cell_type": "markdown",
   "metadata": {},
   "source": [
    "### SVR"
   ]
  },
  {
   "cell_type": "code",
   "execution_count": 195,
   "metadata": {},
   "outputs": [
    {
     "name": "stdout",
     "output_type": "stream",
     "text": [
      "['linear', 'poly', 'rbf', 'sigmoid']\n"
     ]
    },
    {
     "data": {
      "image/png": "[encoded data removed]",
      "text/plain": [
       "<Figure size 432x288 with 1 Axes>"
      ]
     },
     "metadata": {
      "needs_background": "light"
     },
     "output_type": "display_data"
    }
   ],
   "source": [
    "import matplotlib.pyplot as plt\n",
    "import numpy as np\n",
    "\n",
    "\n",
    "from sklearn.model_selection import validation_curve\n",
    "\n",
    "\n",
    "\n",
    "param_range = ['linear','poly','rbf','sigmoid']\n",
    "train_scores, test_scores = validation_curve(\n",
    "    SVR(), Xtrain_std, ytrain, param_name=\"kernel\", param_range=param_range,\n",
    "    scoring=\"neg_mean_squared_error\")\n",
    "train_scores_mean = np.mean(train_scores, axis=1)\n",
    "train_scores_std = np.std(train_scores, axis=1)\n",
    "test_scores_mean = np.mean(test_scores, axis=1)\n",
    "test_scores_std = np.std(test_scores, axis=1)\n",
    "\n",
    "plt.title(\"Validation Curve with RandomForest\")\n",
    "plt.xlabel(\"kernel\")\n",
    "plt.ylabel(\"Score\")\n",
    "lw = 2\n",
    "print(param_range)\n",
    "plt.plot(param_range, train_scores_mean, label=\"Training score\",\n",
    "             color=\"darkorange\", lw=lw)\n",
    "plt.fill_between(param_range, train_scores_mean - train_scores_std,\n",
    "                 train_scores_mean + train_scores_std, alpha=0.2,\n",
    "                 color=\"darkorange\", lw=lw)\n",
    "plt.plot(param_range, test_scores_mean, label=\"Cross-validation score\",\n",
    "             color=\"navy\", lw=lw)\n",
    "plt.fill_between(param_range, test_scores_mean - test_scores_std,\n",
    "                 test_scores_mean + test_scores_std, alpha=0.2,\n",
    "                 color=\"navy\", lw=lw)\n",
    "plt.legend(loc=\"best\")\n",
    "plt.show()\n"
   ]
  },
  {
   "cell_type": "code",
   "execution_count": 155,
   "metadata": {
    "scrolled": true
   },
   "outputs": [
    {
     "data": {
      "image/png": "[encoded data removed]",
      "text/plain": [
       "<Figure size 432x288 with 1 Axes>"
      ]
     },
     "metadata": {
      "needs_background": "light"
     },
     "output_type": "display_data"
    }
   ],
   "source": [
    "# Create CV training and test scores for various training set sizes\n",
    "train_sizes, train_scores, test_scores = learning_curve(SVR(), \n",
    "                                                        Xtrain_std, \n",
    "                                                        ytrain,\n",
    "                                                        # Number of folds in cross-validation\n",
    "                                                        cv = 10,\n",
    "                                                        # Evaluation metric\n",
    "                                                        scoring='neg_mean_squared_error',\n",
    "                                                        # Use all computer cores\n",
    "                                                        n_jobs=-1, \n",
    "                                                        # 50 different sizes of the training set\n",
    "                                                        train_sizes=np.linspace(0.01, 1.0, 50))\n",
    "\n",
    "# change sign of mse's\n",
    "train_scores = np.multiply(-1,train_scores)\n",
    "test_scores = np.multiply(-1,test_scores)\n",
    "\n",
    "# Create means and standard deviations of training set scores\n",
    "train_mean = np.mean(train_scores, axis=1)\n",
    "train_std = np.std(train_scores, axis=1)\n",
    "\n",
    "# Create means and standard deviations of test set scores\n",
    "test_mean = np.mean(test_scores, axis=1)\n",
    "test_std = np.std(test_scores, axis=1)\n",
    "\n",
    "# Draw lines\n",
    "plt.plot(train_sizes, train_mean, '--', color=\"r\",  label=\"Training score\")\n",
    "plt.plot(train_sizes, test_mean, color=\"g\", label=\"Cross-validation score\")\n",
    "\n",
    "# Draw bands\n",
    "plt.fill_between(train_sizes, train_mean - train_std, train_mean + train_std, color=\"r\", alpha=0.1)\n",
    "plt.fill_between(train_sizes, test_mean - test_std, test_mean + test_std, color=\"g\",alpha = 0.1)\n",
    "\n",
    "# grid\n",
    "plt.grid(b=True, which='major', color='#666666', linestyle='-', alpha= 0.1)\n",
    "\n",
    "# Create plot\n",
    "plt.title(\"Learning Curve\")\n",
    "plt.xlabel(\"Training Set Size\"), plt.ylabel(\"Mean Squared Error\"), plt.legend(loc=\"best\")\n",
    "plt.tight_layout()\n",
    "plt.show()"
   ]
  }
 ],
 "metadata": {
  "kernelspec": {
   "display_name": "Python 3",
   "language": "python",
   "name": "python3"
  },
  "language_info": {
   "codemirror_mode": {
    "name": "ipython",
    "version": 3
   },
   "file_extension": ".py",
   "mimetype": "text/x-python",
   "name": "python",
   "nbconvert_exporter": "python",
   "pygments_lexer": "ipython3",
   "version": "3.8.3"
  }
 },
 "nbformat": 4,
 "nbformat_minor": 4
}
